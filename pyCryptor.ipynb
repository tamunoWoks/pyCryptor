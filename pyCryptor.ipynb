{
 "cells": [
  {
   "cell_type": "code",
   "execution_count": 1,
   "id": "8211aae0-a14a-42d7-bea1-43e3c2b09424",
   "metadata": {},
   "outputs": [],
   "source": [
    "import string"
   ]
  },
  {
   "cell_type": "code",
   "execution_count": 3,
   "id": "0305634f-9c00-4552-aa54-28de235fcc1e",
   "metadata": {},
   "outputs": [],
   "source": [
    "# Caesar Cipher: Encrypts by shifting characters in the alphabet\n",
    "def caesar_cipher_encrypt(message, shift):\n",
    "    \"\"\"\n",
    "    Encrypt a message using Caesar Cipher.\n",
    "    \n",
    "    Args:\n",
    "    message (str): The message to encrypt.\n",
    "    shift (int): The number of positions to shift each character.\n",
    "    \n",
    "    Returns:\n",
    "    str: The encrypted message.\n",
    "    \"\"\"\n",
    "    encrypted = \"\"\n",
    "    for char in message:\n",
    "        if char.isalpha():\n",
    "            shift_base = ord('A') if char.isupper() else ord('a')\n",
    "            encrypted += chr((ord(char) - shift_base + shift) % 26 + shift_base)\n",
    "        elif char.isdigit():\n",
    "            encrypted += chr((ord(char) - ord('0') + shift) % 10 + ord('0'))\n",
    "        else:\n",
    "            encrypted += char  # Leave special characters unchanged\n",
    "    return encrypted\n"
   ]
  },
  {
   "cell_type": "code",
   "execution_count": 5,
   "id": "4038fca6-fcff-4a39-ad63-d2065d02b9f9",
   "metadata": {},
   "outputs": [],
   "source": [
    "# Caesar Cipher: Decrypts by reversing the shift\n",
    "def caesar_cipher_decrypt(message, shift):\n",
    "    \"\"\"\n",
    "    Decrypt a message using Caesar Cipher.\n",
    "    \"\"\"\n",
    "    return caesar_cipher_encrypt(message, -shift)"
   ]
  },
  {
   "cell_type": "code",
   "execution_count": 7,
   "id": "3bf1e393-2f35-4d1e-bc8c-6cb566f7b0f4",
   "metadata": {},
   "outputs": [],
   "source": [
    "# Substitution Cipher: Encrypts by replacing each character with a predefined substitution\n",
    "def substitution_cipher_encrypt(message, key):\n",
    "    \"\"\"\n",
    "    Encrypt a message using Substitution Cipher.\n",
    "    \n",
    "    Args:\n",
    "    message (str): The message to encrypt.\n",
    "    key (dict): Mapping of each character to its substitution.\n",
    "    \n",
    "    Returns:\n",
    "    str: The encrypted message.\n",
    "    \"\"\"\n",
    "    encrypted = \"\"\n",
    "    for char in message:\n",
    "        if char.lower() in key:\n",
    "            encrypted += key[char.lower()].upper() if char.isupper() else key[char.lower()]\n",
    "        else:\n",
    "            encrypted += char\n",
    "    return encrypted"
   ]
  },
  {
   "cell_type": "code",
   "execution_count": 9,
   "id": "74e01a93-a1c4-42ed-9f5d-565749455989",
   "metadata": {},
   "outputs": [],
   "source": [
    "# Substitution Cipher: Decrypts using the reverse mapping\n",
    "def substitution_cipher_decrypt(message, key):\n",
    "    \"\"\"\n",
    "    Decrypt a message using Substitution Cipher.\n",
    "    \"\"\"\n",
    "    reverse_key = {v: k for k, v in key.items()}\n",
    "    return substitution_cipher_encrypt(message, reverse_key)"
   ]
  },
  {
   "cell_type": "code",
   "execution_count": 11,
   "id": "5d95f34f-2f18-447b-b013-4cd4f0ac45cb",
   "metadata": {},
   "outputs": [],
   "source": [
    "# Vigenère Cipher: Encrypts using a keyword-based shift\n",
    "def vigenere_cipher_encrypt(message, keyword):\n",
    "    \"\"\"\n",
    "    Encrypt a message using Vigenère Cipher.\n",
    "    \n",
    "    Args:\n",
    "    message (str): The message to encrypt.\n",
    "    keyword (str): The keyword used for encryption.\n",
    "    \n",
    "    Returns:\n",
    "    str: The encrypted message.\n",
    "    \"\"\"\n",
    "    encrypted = \"\"\n",
    "    keyword = keyword.lower()\n",
    "    keyword_index = 0\n",
    "    \n",
    "    for char in message:\n",
    "        if char.isalpha():\n",
    "            shift = ord(keyword[keyword_index]) - ord('a')\n",
    "            shift_base = ord('A') if char.isupper() else ord('a')\n",
    "            encrypted += chr((ord(char) - shift_base + shift) % 26 + shift_base)\n",
    "            keyword_index = (keyword_index + 1) % len(keyword)\n",
    "        else:\n",
    "            encrypted += char\n",
    "    return encrypted"
   ]
  },
  {
   "cell_type": "code",
   "execution_count": 13,
   "id": "1f156c62-0845-4fca-ad7e-008c01d9c787",
   "metadata": {},
   "outputs": [],
   "source": [
    "# Vigenère Cipher: Decrypts using the reverse of the keyword-based shift\n",
    "def vigenere_cipher_decrypt(message, keyword):\n",
    "    \"\"\"\n",
    "    Decrypt a message using Vigenère Cipher.\n",
    "    \"\"\"\n",
    "    decrypted = \"\"\n",
    "    keyword = keyword.lower()\n",
    "    keyword_index = 0\n",
    "    \n",
    "    for char in message:\n",
    "        if char.isalpha():\n",
    "            shift = ord(keyword[keyword_index]) - ord('a')\n",
    "            shift_base = ord('A') if char.isupper() else ord('a')\n",
    "            decrypted += chr((ord(char) - shift_base - shift) % 26 + shift_base)\n",
    "            keyword_index = (keyword_index + 1) % len(keyword)\n",
    "        else:\n",
    "            decrypted += char\n",
    "    return decrypted"
   ]
  },
  {
   "cell_type": "code",
   "execution_count": 15,
   "id": "c3769dc3-8543-444f-a5fc-6d16a1530559",
   "metadata": {},
   "outputs": [],
   "source": [
    "# Menu-driven program for encryption and decryption\n",
    "def main():\n",
    "    # Substitution cipher key\n",
    "    substitution_key = {\n",
    "        'a': 'q', 'b': 'w', 'c': 'e', 'd': 'r', 'e': 't', 'f': 'y', 'g': 'u', 'h': 'i', 'i': 'o',\n",
    "        'j': 'p', 'k': 'a', 'l': 's', 'm': 'd', 'n': 'f', 'o': 'g', 'p': 'h', 'q': 'j', 'r': 'k',\n",
    "        's': 'l', 't': 'z', 'u': 'x', 'v': 'c', 'w': 'v', 'x': 'b', 'y': 'n', 'z': 'm'\n",
    "    }\n",
    "\n",
    "    while True:\n",
    "        print(\"\\nEncryption Tool\")\n",
    "        print(\"1. Encrypt with Caesar Cipher\")\n",
    "        print(\"2. Decrypt with Caesar Cipher\")\n",
    "        print(\"3. Encrypt with Substitution Cipher\")\n",
    "        print(\"4. Decrypt with Substitution Cipher\")\n",
    "        print(\"5. Encrypt with Vigenère Cipher\")\n",
    "        print(\"6. Decrypt with Vigenère Cipher\")\n",
    "        print(\"7. Exit\")\n",
    "        \n",
    "        choice = input(\"Choose an option: \")\n",
    "\n",
    "        if choice == \"1\":\n",
    "            message = input(\"Enter the message to encrypt: \")\n",
    "            shift = int(input(\"Enter the shift value: \"))\n",
    "            print(f\"Encrypted Message: {caesar_cipher_encrypt(message, shift)}\")\n",
    "\n",
    "        elif choice == \"2\":\n",
    "            message = input(\"Enter the message to decrypt: \")\n",
    "            shift = int(input(\"Enter the shift value: \"))\n",
    "            print(f\"Decrypted Message: {caesar_cipher_decrypt(message, shift)}\")\n",
    "\n",
    "        elif choice == \"3\":\n",
    "            message = input(\"Enter the message to encrypt: \")\n",
    "            print(f\"Encrypted Message: {substitution_cipher_encrypt(message, substitution_key)}\")\n",
    "\n",
    "        elif choice == \"4\":\n",
    "            message = input(\"Enter the message to decrypt: \")\n",
    "            print(f\"Decrypted Message: {substitution_cipher_decrypt(message, substitution_key)}\")\n",
    "\n",
    "        elif choice == \"5\":\n",
    "            message = input(\"Enter the message to encrypt: \")\n",
    "            keyword = input(\"Enter the keyword: \")\n",
    "            print(f\"Encrypted Message: {vigenere_cipher_encrypt(message, keyword)}\")\n",
    "\n",
    "        elif choice == \"6\":\n",
    "            message = input(\"Enter the message to decrypt: \")\n",
    "            keyword = input(\"Enter the keyword: \")\n",
    "            print(f\"Decrypted Message: {vigenere_cipher_decrypt(message, keyword)}\")\n",
    "\n",
    "        elif choice == \"7\":\n",
    "            print(\"Goodbye!\")\n",
    "            break\n",
    "\n",
    "        else:\n",
    "            print(\"Invalid option. Please try again.\")"
   ]
  },
  {
   "cell_type": "code",
   "execution_count": 17,
   "id": "5290eada-0b99-4d4b-9ec5-881ab43992b5",
   "metadata": {},
   "outputs": [
    {
     "name": "stdout",
     "output_type": "stream",
     "text": [
      "\n",
      "Encryption Tool\n",
      "1. Encrypt with Caesar Cipher\n",
      "2. Decrypt with Caesar Cipher\n",
      "3. Encrypt with Substitution Cipher\n",
      "4. Decrypt with Substitution Cipher\n",
      "5. Encrypt with Vigenère Cipher\n",
      "6. Decrypt with Vigenère Cipher\n",
      "7. Exit\n"
     ]
    },
    {
     "name": "stdin",
     "output_type": "stream",
     "text": [
      "Choose an option:  7\n"
     ]
    },
    {
     "name": "stdout",
     "output_type": "stream",
     "text": [
      "Goodbye!\n"
     ]
    }
   ],
   "source": [
    "if __name__ == \"__main__\":\n",
    "    main()"
   ]
  },
  {
   "cell_type": "code",
   "execution_count": null,
   "id": "acb1b5f5-8220-4fe9-962d-a7994625dbce",
   "metadata": {},
   "outputs": [],
   "source": []
  }
 ],
 "metadata": {
  "kernelspec": {
   "display_name": "Python 3 (ipykernel)",
   "language": "python",
   "name": "python3"
  },
  "language_info": {
   "codemirror_mode": {
    "name": "ipython",
    "version": 3
   },
   "file_extension": ".py",
   "mimetype": "text/x-python",
   "name": "python",
   "nbconvert_exporter": "python",
   "pygments_lexer": "ipython3",
   "version": "3.12.4"
  }
 },
 "nbformat": 4,
 "nbformat_minor": 5
}
